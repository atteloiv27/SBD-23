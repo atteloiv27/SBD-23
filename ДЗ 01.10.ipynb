{
  "nbformat": 4,
  "nbformat_minor": 0,
  "metadata": {
    "colab": {
      "provenance": []
    },
    "kernelspec": {
      "name": "python3",
      "display_name": "Python 3"
    },
    "language_info": {
      "name": "python"
    }
  },
  "cells": [
    {
      "cell_type": "code",
      "source": [
        "import concurrent.futures\n",
        "from itertools import permutations\n",
        "\n",
        "# Функция для генерации четных чисел в заданном диапазоне\n",
        "def generate_even_numbers(start, stop):\n",
        "    if start % 2 != 0:\n",
        "        start += 1  # Начинаем с ближайшего четного числа\n",
        "    return [x for x in range(start, stop) if x % 2 == 0]\n",
        "\n",
        "# Функция для проверки решения задачи Форда\n",
        "def is_valid_solution(D, O, N, A, L, G, E, R, B, T):\n",
        "    DONALD = D * 100000 + O * 10000 + N * 1000 + A * 100 + L * 10 + D\n",
        "    GERALD = G * 100000 + E * 10000 + R * 1000 + A * 100 + L * 10 + D\n",
        "    ROBERT = R * 100000 + O * 10000 + B * 1000 + E * 100 + R * 10 + T\n",
        "    return DONALD + GERALD == ROBERT\n",
        "\n",
        "# Функция для поиска решения задачи Форда\n",
        "def solve_donald_gerald():\n",
        "    D = 5  # фиксируем D\n",
        "    for O, N, A, L, G, E, R, B, T in permutations(range(10), 9):\n",
        "        # Проверяем, не дублируется ли D\n",
        "        if D in (O, N, A, L, G, E, R, B, T):\n",
        "            continue\n",
        "        if is_valid_solution(D, O, N, A, L, G, E, R, B, T):\n",
        "            DONALD = D * 100000 + O * 10000 + N * 1000 + A * 100 + L * 10 + D\n",
        "            GERALD = G * 100000 + E * 10000 + R * 1000 + A * 100 + L * 10 + D\n",
        "            ROBERT = R * 100000 + O * 10000 + B * 1000 + E * 100 + R * 10 + T\n",
        "            print(f\"Solution: DONALD={DONALD}, GERALD={GERALD}, ROBERT={ROBERT}\")\n",
        "            return\n",
        "\n",
        "# Функция для распараллеливания решения\n",
        "def parallel_solve():\n",
        "    # Генерируем четные числа от 0 до 10\n",
        "    even_numbers = generate_even_numbers(0, 10)\n",
        "\n",
        "    with concurrent.futures.ProcessPoolExecutor() as executor:\n",
        "        futures = []\n",
        "        # Отправляем задачу на выполнение в два процесса\n",
        "        for _ in range(2):  # Два процесса\n",
        "            futures.append(executor.submit(solve_donald_gerald))\n",
        "\n",
        "        for future in concurrent.futures.as_completed(futures):\n",
        "            future.result()  # Просто дожидаемся завершения\n",
        "\n",
        "# Запуск параллельного решения\n",
        "parallel_solve()\n",
        "\n",
        "# Пример генерации четных чисел\n",
        "print(\"\\nЧетные числа от 0 до 20:\")\n",
        "even_numbers = generate_even_numbers(0, 20)\n",
        "for number in even_numbers:\n",
        "    print(number)\n"
      ],
      "metadata": {
        "colab": {
          "base_uri": "https://localhost:8080/"
        },
        "id": "RwQw8ry1aohW",
        "outputId": "d51eada3-b4c8-487d-e081-59c739a781a9"
      },
      "execution_count": 5,
      "outputs": [
        {
          "output_type": "stream",
          "name": "stdout",
          "text": [
            "Solution: DONALD=526485, GERALD=197485, ROBERT=723970\n",
            "Solution: DONALD=526485, GERALD=197485, ROBERT=723970\n",
            "\n",
            "Четные числа от 0 до 20:\n",
            "0\n",
            "2\n",
            "4\n",
            "6\n",
            "8\n",
            "10\n",
            "12\n",
            "14\n",
            "16\n",
            "18\n"
          ]
        }
      ]
    },
    {
      "cell_type": "code",
      "source": [],
      "metadata": {
        "id": "eVdLGXAdbnn8"
      },
      "execution_count": null,
      "outputs": []
    }
  ]
}